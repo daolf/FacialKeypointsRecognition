{
 "cells": [
  {
   "cell_type": "markdown",
   "metadata": {},
   "source": [
    "# Extracting data"
   ]
  },
  {
   "cell_type": "code",
   "execution_count": 1,
   "metadata": {
    "collapsed": false
   },
   "outputs": [],
   "source": [
    "%matplotlib notebook\n",
    "\n",
    "import matplotlib.pyplot as plt\n",
    "import pandas as pd\n",
    "import numpy as np\n",
    "\n",
    "df = pd.read_csv('./data/training.csv')"
   ]
  },
  {
   "cell_type": "markdown",
   "metadata": {},
   "source": [
    "We convert Image to an array of integer"
   ]
  },
  {
   "cell_type": "code",
   "execution_count": 2,
   "metadata": {
    "collapsed": false
   },
   "outputs": [
    {
     "data": {
      "text/plain": [
       "0    [238, 236, 237, 238, 240, 240, 239, 241, 241, ...\n",
       "Name: Image, dtype: object"
      ]
     },
     "execution_count": 2,
     "metadata": {},
     "output_type": "execute_result"
    }
   ],
   "source": [
    "def mapMethod(element):\n",
    "    charBuffer = element.split(' ')\n",
    "    intBuffer = list(map(int, charBuffer))\n",
    "    return intBuffer\n",
    "df[\"Image\"] = df[\"Image\"].map(mapMethod)\n",
    "df[\"Image\"].head(1)"
   ]
  },
  {
   "cell_type": "markdown",
   "metadata": {
    "collapsed": true
   },
   "source": [
    "# First try with dummy mean classifier"
   ]
  },
  {
   "cell_type": "code",
   "execution_count": 70,
   "metadata": {
    "collapsed": false
   },
   "outputs": [
    {
     "data": {
      "text/plain": [
       "left_eye_center_x            66.359021\n",
       "left_eye_center_y            37.651234\n",
       "right_eye_center_x           30.306102\n",
       "right_eye_center_y           37.976943\n",
       "left_eye_inner_corner_x      59.159339\n",
       "left_eye_inner_corner_y      37.944752\n",
       "left_eye_outer_corner_x      73.330478\n",
       "left_eye_outer_corner_y      37.707008\n",
       "right_eye_inner_corner_x     36.652607\n",
       "right_eye_inner_corner_y     37.989902\n",
       "right_eye_outer_corner_x     22.384504\n",
       "right_eye_outer_corner_y     38.033495\n",
       "left_eyebrow_inner_end_x     56.068513\n",
       "left_eyebrow_inner_end_y     29.332678\n",
       "left_eyebrow_outer_end_x     79.482826\n",
       "left_eyebrow_outer_end_y     29.734861\n",
       "right_eyebrow_inner_end_x    39.322137\n",
       "right_eyebrow_inner_end_y    29.502998\n",
       "right_eyebrow_outer_end_x    15.871177\n",
       "right_eyebrow_outer_end_y    30.428166\n",
       "nose_tip_x                   48.374186\n",
       "nose_tip_y                   62.715884\n",
       "mouth_left_corner_x          63.285735\n",
       "mouth_left_corner_y          75.970714\n",
       "mouth_right_corner_x         32.900404\n",
       "mouth_right_corner_y         76.179768\n",
       "mouth_center_top_lip_x       47.975412\n",
       "mouth_center_top_lip_y       72.919443\n",
       "mouth_center_bottom_lip_x    48.569472\n",
       "mouth_center_bottom_lip_y    78.970146\n",
       "dtype: float64"
      ]
     },
     "execution_count": 70,
     "metadata": {},
     "output_type": "execute_result"
    }
   ],
   "source": [
    "dfTrain = df[0:-2000]\n",
    "meansArray = []\n",
    "for i in range(0, len(dfTrain.columns) - 1):\n",
    "        meansArray.append(df.ix[:, i].mean())\n",
    "meansDf = pd.Series(meansArray, index = dfTrain.columns[:-1])\n",
    "meansDf"
   ]
  },
  {
   "cell_type": "markdown",
   "metadata": {},
   "source": [
    "Write output file"
   ]
  },
  {
   "cell_type": "code",
   "execution_count": 71,
   "metadata": {
    "collapsed": false
   },
   "outputs": [
    {
     "data": {
      "text/plain": [
       "'left_eye_center_x'"
      ]
     },
     "execution_count": 71,
     "metadata": {},
     "output_type": "execute_result"
    }
   ],
   "source": [
    "lookupDf = pd.read_csv('./data/idLookupTable.csv')\n",
    "lookupDf.ix[0][2]"
   ]
  },
  {
   "cell_type": "code",
   "execution_count": 73,
   "metadata": {
    "collapsed": false
   },
   "outputs": [
    {
     "data": {
      "text/plain": [
       "27124"
      ]
     },
     "execution_count": 73,
     "metadata": {},
     "output_type": "execute_result"
    }
   ],
   "source": [
    "f = open('data/submission.csv', 'w')\n",
    "f.write(\"RowId,Location\\n\")\n",
    "\n",
    "for i in range(0, len(lookupDf)):\n",
    "    rowId = lookupDf.ix[i][0]\n",
    "    nameOfFeature = lookupDf.ix[i][2]\n",
    "    location = meansDf[nameOfFeature]\n",
    "    f.write(\"{},{}\\n\".format(rowId, location))\n",
    "f.close()\n",
    "len(lookupDf)"
   ]
  },
  {
   "cell_type": "code",
   "execution_count": null,
   "metadata": {
    "collapsed": true
   },
   "outputs": [],
   "source": []
  }
 ],
 "metadata": {
  "anaconda-cloud": {},
  "kernelspec": {
   "display_name": "Python [Root]",
   "language": "python",
   "name": "Python [Root]"
  },
  "language_info": {
   "codemirror_mode": {
    "name": "ipython",
    "version": 3
   },
   "file_extension": ".py",
   "mimetype": "text/x-python",
   "name": "python",
   "nbconvert_exporter": "python",
   "pygments_lexer": "ipython3",
   "version": "3.5.2"
  }
 },
 "nbformat": 4,
 "nbformat_minor": 0
}
